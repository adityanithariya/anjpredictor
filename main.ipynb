{
 "cells": [
  {
   "cell_type": "markdown",
   "id": "d7af4480",
   "metadata": {},
   "source": [
    "### Importing Modules"
   ]
  },
  {
   "cell_type": "code",
   "execution_count": null,
   "id": "baccf4ff",
   "metadata": {},
   "outputs": [],
   "source": [
    "import tensorflow as tf\n",
    "from tensorflow import keras\n",
    "\n",
    "import pandas as pd\n",
    "import numpy as np"
   ]
  },
  {
   "cell_type": "markdown",
   "id": "de5ccb60",
   "metadata": {},
   "source": [
    "### Data Importing"
   ]
  },
  {
   "cell_type": "code",
   "execution_count": null,
   "id": "3dd88fc2",
   "metadata": {},
   "outputs": [],
   "source": [
    "x1 = pd.read_csv(\"Data1.csv\")\n",
    "x2 = pd.read_csv(\"Data2.csv\")"
   ]
  },
  {
   "cell_type": "code",
   "execution_count": null,
   "id": "293a6aae",
   "metadata": {},
   "outputs": [],
   "source": [
    "y1 = np.zeros((200, 1))\n",
    "y2 = np.ones((200, 1))\n",
    "y_train = np.concatenate((y1[:180], y2[:180]))\n",
    "y_test = np.concatenate((y1[180:], y2[180:]))"
   ]
  },
  {
   "cell_type": "code",
   "execution_count": null,
   "id": "4be39323",
   "metadata": {},
   "outputs": [],
   "source": [
    "y_train"
   ]
  },
  {
   "cell_type": "markdown",
   "id": "2a096806",
   "metadata": {},
   "source": [
    "### Data Preprocessing"
   ]
  },
  {
   "cell_type": "code",
   "execution_count": null,
   "id": "5bb2e3c3",
   "metadata": {},
   "outputs": [],
   "source": [
    "def convert(x):\n",
    "    branch = {\n",
    "        \"AI\":0,\n",
    "        \"DS\":1,\n",
    "        \"CS\":2, \n",
    "        \"IT\":3,\n",
    "        \"ECE\":4,\n",
    "        \"CE\":5,\n",
    "        \"ME\":6,\n",
    "        \"EE\":7\n",
    "    }\n",
    "    cat = {\n",
    "        \"SC\":0,\n",
    "        \"ST\":1,\n",
    "        \"GEN\":2,\n",
    "        \"GEN-EWS\":3,\n",
    "        \"OBC\":4,\n",
    "        \"PWD\":5,\n",
    "        \"EX-SER\":6,\n",
    "        \"KM\":7,\n",
    "        \"PH\":8,\n",
    "        \"SBC\":9,\n",
    "        \"MIN\":10\n",
    "    }\n",
    "    state = {\n",
    "        \"Home State\":0,\n",
    "        \"Other State\":1\n",
    "    }\n",
    "    for n, i in enumerate(x):\n",
    "        for m, j in enumerate(i):\n",
    "            if m == 0:\n",
    "                x[n][m] = (branch[x[n][m]]/7)\n",
    "            elif m == 1:\n",
    "                x[n][m] = (cat[x[n][m]]/10)\n",
    "            elif m == 2:\n",
    "                x[n][m] = state[x[n][m]]\n",
    "            elif m == 3:\n",
    "                x[n][m] = x[n][m]/100\n",
    "            elif m == 4:\n",
    "                x[n][m] = x[n][m]/100\n",
    "\n",
    "    return x\n",
    "\n",
    "x1 = x1.to_numpy()\n",
    "x1 = convert(x1)\n",
    "x2 = x2.to_numpy()\n",
    "x2 = convert(x2)\n",
    "\n",
    "x1 = x1.astype(np.float64)\n",
    "x2 = x2.astype(np.float64)\n",
    "x_train = np.concatenate((x1[:180], x2[:180]))\n",
    "x_test = np.concatenate((x1[180:], x2[180:]))"
   ]
  },
  {
   "cell_type": "code",
   "execution_count": null,
   "id": "4685f35b",
   "metadata": {},
   "outputs": [],
   "source": [
    "x_train"
   ]
  },
  {
   "cell_type": "markdown",
   "id": "a5a06299",
   "metadata": {},
   "source": [
    "### Creating Model"
   ]
  },
  {
   "cell_type": "code",
   "execution_count": null,
   "id": "7cd7c574",
   "metadata": {},
   "outputs": [],
   "source": [
    "model = keras.Sequential([\n",
    "    keras.layers.Flatten(input_shape=((5, ))),\n",
    "    keras.layers.Dense(128, activation='relu'),\n",
    "    keras.layers.Dense(2, activation='softmax')\n",
    "])"
   ]
  },
  {
   "cell_type": "markdown",
   "id": "5e7d7ebd",
   "metadata": {},
   "source": [
    "### Compiling Model"
   ]
  },
  {
   "cell_type": "code",
   "execution_count": null,
   "id": "26fc467d",
   "metadata": {},
   "outputs": [],
   "source": [
    "model.compile(\n",
    "    optimizer=\"adam\",\n",
    "    loss=\"sparse_categorical_crossentropy\",\n",
    "    metrics=[\"accuracy\"]\n",
    ")"
   ]
  },
  {
   "cell_type": "markdown",
   "id": "54ad8e44",
   "metadata": {},
   "source": [
    "### Fitting Data"
   ]
  },
  {
   "cell_type": "code",
   "execution_count": null,
   "id": "b99b8df3",
   "metadata": {},
   "outputs": [],
   "source": [
    "model.fit(tf.convert_to_tensor(x_train), tf.convert_to_tensor(y_train), epochs=7)"
   ]
  },
  {
   "cell_type": "markdown",
   "id": "9d2a0434",
   "metadata": {},
   "source": [
    "### Evaluating Model"
   ]
  },
  {
   "cell_type": "code",
   "execution_count": null,
   "id": "ac6626dc",
   "metadata": {},
   "outputs": [],
   "source": [
    "print(x_test[:10])\n",
    "print(y_test[:10])\n",
    "test_loss, test_acc = model.evaluate(tf.convert_to_tensor(x_test[:10]), tf.convert_to_tensor(y_test[:10]))\n",
    "print('Test accuracy:', test_acc)"
   ]
  },
  {
   "cell_type": "markdown",
   "id": "49f9fd46",
   "metadata": {},
   "source": [
    "### Making Predictions"
   ]
  },
  {
   "cell_type": "code",
   "execution_count": null,
   "id": "c8d9c299",
   "metadata": {},
   "outputs": [],
   "source": [
    "predictions = model.predict(x_test[10:])\n",
    "print(y_test[10:], predictions)"
   ]
  }
 ],
 "metadata": {
  "kernelspec": {
   "display_name": "Python 3 (ipykernel)",
   "language": "python",
   "name": "python3"
  },
  "language_info": {
   "codemirror_mode": {
    "name": "ipython",
    "version": 3
   },
   "file_extension": ".py",
   "mimetype": "text/x-python",
   "name": "python",
   "nbconvert_exporter": "python",
   "pygments_lexer": "ipython3",
   "version": "3.10.2"
  }
 },
 "nbformat": 4,
 "nbformat_minor": 5
}
